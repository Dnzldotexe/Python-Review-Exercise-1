{
 "cells": [
  {
   "cell_type": "markdown",
   "id": "dbf98dc5",
   "metadata": {
    "papermill": {
     "duration": 0.002641,
     "end_time": "2023-03-30T15:43:04.511060",
     "exception": false,
     "start_time": "2023-03-30T15:43:04.508419",
     "status": "completed"
    },
    "tags": []
   },
   "source": [
    "# Python Review Exercise 1\n",
    "\n",
    "## Author: Danziel Cempron\n",
    "\n",
    "Description: Develop a program that **reads the lengths of the sides of a triangle from the user.** The program checks whether the lengths entered can form a triangle (apply the triangle inequality theorem and check that no length entered is negative). If the sides entered are valid sides of a triangle, identify the type (equilateral, isosceles, scalene) and display its area. Otherwise, print an error message. \n",
    "\n",
    "Date of Submission: March 31, 2023"
   ]
  },
  {
   "cell_type": "markdown",
   "id": "c352d8c4",
   "metadata": {
    "papermill": {
     "duration": 0.001327,
     "end_time": "2023-03-30T15:43:04.514152",
     "exception": false,
     "start_time": "2023-03-30T15:43:04.512825",
     "status": "completed"
    },
    "tags": []
   },
   "source": [
    "## OBJECTIVES:\n",
    "1. Read each side (3) lengths from user input\n",
    "2. Check whether the lengths are valid (can form a triangle)\n",
    "    - Use inequality theorem\n",
    "    - No length should be negative\n",
    "3. If valid, identify the type of triangle; and\n",
    "4. Display the area.\n",
    "5. Else, Display an error message."
   ]
  },
  {
   "cell_type": "code",
   "execution_count": null,
   "id": "2382a8f2",
   "metadata": {
    "papermill": {
     "duration": 0.001246,
     "end_time": "2023-03-30T15:43:04.516868",
     "exception": false,
     "start_time": "2023-03-30T15:43:04.515622",
     "status": "completed"
    },
    "tags": []
   },
   "outputs": [],
   "source": []
  }
 ],
 "metadata": {
  "kernelspec": {
   "display_name": "Python 3",
   "language": "python",
   "name": "python3"
  },
  "language_info": {
   "codemirror_mode": {
    "name": "ipython",
    "version": 3
   },
   "file_extension": ".py",
   "mimetype": "text/x-python",
   "name": "python",
   "nbconvert_exporter": "python",
   "pygments_lexer": "ipython3",
   "version": "3.7.12"
  },
  "papermill": {
   "default_parameters": {},
   "duration": 10.599954,
   "end_time": "2023-03-30T15:43:05.243066",
   "environment_variables": {},
   "exception": null,
   "input_path": "__notebook__.ipynb",
   "output_path": "__notebook__.ipynb",
   "parameters": {},
   "start_time": "2023-03-30T15:42:54.643112",
   "version": "2.4.0"
  }
 },
 "nbformat": 4,
 "nbformat_minor": 5
}
